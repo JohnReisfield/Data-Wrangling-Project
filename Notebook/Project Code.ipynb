{
 "cells": [
  {
   "cell_type": "code",
   "execution_count": 2,
   "metadata": {},
   "outputs": [],
   "source": [
    "import seaborn as sns\n",
    "from scipy.stats import pearsonr, ttest_ind\n",
    "\n",
    "import matplotlib.pyplot as plt"
   ]
  },
  {
   "cell_type": "code",
   "execution_count": 3,
   "metadata": {},
   "outputs": [],
   "source": [
    "from selenium.common.exceptions import ElementClickInterceptedException\n"
   ]
  },
  {
   "cell_type": "code",
   "execution_count": 4,
   "metadata": {},
   "outputs": [],
   "source": [
    "import pandas as pd\n",
    "from selenium import webdriver  \n",
    "from selenium.webdriver.chrome.service import Service  \n",
    "from selenium.webdriver.common.by import By  \n",
    "from selenium.webdriver.chrome.options import Options  \n",
    "from webdriver_manager.chrome import ChromeDriverManager  \n",
    "from selenium.webdriver.support.ui import WebDriverWait\n",
    "from selenium.webdriver.support import expected_conditions as EC\n",
    "from selenium.common.exceptions import NoSuchElementException\n",
    "from selenium.common.exceptions import TimeoutException\n",
    "import time  \n",
    "import random  "
   ]
  },
  {
   "cell_type": "code",
   "execution_count": 5,
   "metadata": {},
   "outputs": [],
   "source": [
    "# Set up ChromeDriver using webdriver_manager\n",
    "chrome_options = Options()  # Initialize Chrome options (optional)\n",
    "service = Service(ChromeDriverManager().install())  # Install and set up ChromeDriver as a service\n",
    "\n",
    "# Create a ChromeDriver instance\n",
    "browser = webdriver.Chrome(service=service, options=chrome_options)\n",
    "\n",
    "# Open the website\n",
    "url = 'https://www.nhl.com/stats/teams?aggregate=0&reportType=season&seasonFrom=20112012&seasonTo=20232024&gameType=2&sort=a_seasonId&page=0&pageSize=50'\n",
    "browser.get(url)\n",
    "\n",
    "# Maximize the browser window for better visibility\n",
    "browser.maximize_window()\n",
    "\n",
    "# Wait a random time between 3-7 seconds before starting\n",
    "time.sleep(random.uniform(3, 7))"
   ]
  },
  {
   "cell_type": "code",
   "execution_count": 6,
   "metadata": {},
   "outputs": [],
   "source": [
    "team= []\n",
    "season= []\n",
    "games_played= []\n",
    "wins= []\n",
    "losses= []\n",
    "overtime_losses= []\n",
    "points= []\n",
    "point_perc= []\n",
    "gf= []\n",
    "ga= []"
   ]
  },
  {
   "cell_type": "code",
   "execution_count": 7,
   "metadata": {},
   "outputs": [],
   "source": [
    "\n",
    "def scrape_page():\n",
    "    # Find rows\n",
    "    rows = browser.find_elements(By.XPATH, '//tbody[@class=\"rt-tbody\"]/tr')\n",
    "    for i, row in enumerate(rows):\n",
    "        try:\n",
    "            # Locate all columns in the current row\n",
    "            cols = row.find_elements(By.XPATH, './/td')\n",
    "            team.append(cols[1].text)  # Second column: Team\n",
    "            season.append(cols[2].text)  # Third column: Season\n",
    "            games_played.append(cols[3].text)       # Fourth column: GP\n",
    "            wins.append(cols[4].text)               # Fifth column: Wins\n",
    "            losses.append(cols[5].text)             # Sixth column: Losses\n",
    "            overtime_losses.append(cols[7].text)    # Eighth column: OT Losses\n",
    "            points.append(cols[8].text)             # Ninth column: Points\n",
    "            point_perc.append(cols[9].text)         # Tenth column: Point Percentage\n",
    "            gf.append(cols[13].text)                # Fourteenth column: Goals For\n",
    "            ga.append(cols[14].text)                # Fifteenth column: Goals Against\n",
    "        except IndexError:\n",
    "            print(f\"Row {i} does not have enough columns. Skipping.\")\n"
   ]
  },
  {
   "cell_type": "code",
   "execution_count": 8,
   "metadata": {},
   "outputs": [
    {
     "name": "stdout",
     "output_type": "stream",
     "text": [
      "ElementClickInterceptedException: Retrying click after scrolling\n",
      "ElementClickInterceptedException: Retrying click after scrolling\n",
      "ElementClickInterceptedException: Retrying click after scrolling\n",
      "ElementClickInterceptedException: Retrying click after scrolling\n",
      "ElementClickInterceptedException: Retrying click after scrolling\n",
      "ElementClickInterceptedException: Retrying click after scrolling\n",
      "ElementClickInterceptedException: Retrying click after scrolling\n",
      "Timeout waiting for Next\n"
     ]
    }
   ],
   "source": [
    "\n",
    "\n",
    "while True:\n",
    "    scrape_page()  # Scrape the current page\n",
    "    try:\n",
    "        # Wait for the Next button\n",
    "        next_button = WebDriverWait(browser, 10).until(\n",
    "            EC.element_to_be_clickable((By.XPATH, '//*[@id=\"season-tabpanel\"]/span/nav/button[2]'))\n",
    "        )\n",
    "        \n",
    "        # Scroll down\n",
    "        browser.execute_script(\"arguments[0].scrollIntoView({block: 'center'});\", next_button)\n",
    "        \n",
    "        try:\n",
    "                    # Retry clicking\n",
    "                    next_button.click()\n",
    "        except ElementClickInterceptedException:\n",
    "                    print(\"ElementClickInterceptedException: Retrying click after scrolling\")\n",
    "                    time.sleep(1)  # Wait \n",
    "                    browser.execute_script(\"window.scrollBy(0, 300);\")  # Scroll down\n",
    "                    browser.execute_script(\"arguments[0].click();\", next_button)\n",
    "                    time.sleep(random.uniform(3, 7))  # Wait for the next page to load\n",
    "    except TimeoutException:\n",
    "        print(\"Timeout waiting for Next\")\n",
    "        break\n",
    "    except NoSuchElementException:\n",
    "        print(\"No more pages to scrape\")\n",
    "        break\n",
    "browser.quit()  # Close the browser after scraping\n",
    "# Convert to df\n",
    "data = {\n",
    "    'Team': team,\n",
    "    'Season': season,\n",
    "    'Games Played': games_played,\n",
    "    'Wins': wins,\n",
    "    'Losses': losses,\n",
    "    'Overtime Losses': overtime_losses,\n",
    "    'Points': points,\n",
    "    'Point Percentage': point_perc,\n",
    "    'Goals For': gf,\n",
    "    'Goals Against': ga\n",
    "}\n",
    "stats = pd.DataFrame(data)  \n",
    "\n",
    "\n",
    "# Convert specific columns to float64\n",
    "columns_to_convert = [\n",
    "    'Games Played', 'Wins', 'Losses', 'Overtime Losses',\n",
    "    'Points', 'Point Percentage', 'Goals For', 'Goals Against'\n",
    "]\n",
    "for column in columns_to_convert:\n",
    "    stats[column] = stats[column].astype('float64')\n",
    "\n",
    "stats['Season'] = stats['Season'].astype(str)\n"
   ]
  },
  {
   "cell_type": "code",
   "execution_count": 9,
   "metadata": {},
   "outputs": [
    {
     "name": "stdout",
     "output_type": "stream",
     "text": [
      "                  Team   Season  Games Played  Wins  Losses  Overtime Losses  \\\n",
      "0    New Jersey Devils  2011-12          82.0  48.0    28.0              6.0   \n",
      "1   New York Islanders  2011-12          82.0  34.0    37.0             11.0   \n",
      "2     New York Rangers  2011-12          82.0  51.0    24.0              7.0   \n",
      "3  Philadelphia Flyers  2011-12          82.0  47.0    26.0              9.0   \n",
      "4  Pittsburgh Penguins  2011-12          82.0  51.0    25.0              6.0   \n",
      "\n",
      "   Points  Point Percentage  Goals For  Goals Against  \n",
      "0   102.0             0.622      216.0          205.0  \n",
      "1    79.0             0.482      196.0          251.0  \n",
      "2   109.0             0.665      222.0          182.0  \n",
      "3   103.0             0.628      260.0          225.0  \n",
      "4   108.0             0.659      273.0          218.0  \n"
     ]
    }
   ],
   "source": [
    "# Ensure column headers are set correctly\n",
    "stats.columns = ['Team', 'Season', 'Games Played', 'Wins', 'Losses', 'Overtime Losses', 'Points', 'Point Percentage', 'Goals For', 'Goals Against']\n",
    "\n",
    "# Display the DataFrame to verify\n",
    "print(stats.head())"
   ]
  },
  {
   "cell_type": "code",
   "execution_count": 10,
   "metadata": {},
   "outputs": [],
   "source": [
    "stats.to_csv('nhl_stats.csv', index=False)"
   ]
  },
  {
   "cell_type": "code",
   "execution_count": 11,
   "metadata": {},
   "outputs": [
    {
     "name": "stdout",
     "output_type": "stream",
     "text": [
      "  Season  Team  Total Players  Average Age  Cap Space  Total Cap  \\\n",
      "0   2023   ANA             55         25.3   13168855   70331145   \n",
      "1   2023   CHI             54         27.3   12857222   70642778   \n",
      "2   2023   ARI             54         25.9   12180382   71319618   \n",
      "3   2023   BUF             51         25.0   10676071   72823929   \n",
      "4   2023   SJS             62         27.1    9725679   73749321   \n",
      "\n",
      "   Long0term IR    Active     Injured  \n",
      "0           0.0  62409004   2750000.0  \n",
      "1           0.0  51951617   6000000.0  \n",
      "2           0.0  42536666  23148206.0  \n",
      "3           0.0  66673872   4285714.0  \n",
      "4           0.0  48219231  13425000.0  \n"
     ]
    }
   ],
   "source": [
    "# Load the salary cap data from the CSV file\n",
    "salary_cap_df = pd.read_excel(r\"NHL Salary Cap.xlsx\")\n",
    "salary_cap_df['Season'] = salary_cap_df['Season'].astype(str)\n",
    "salary_cap_df['Injured'] = salary_cap_df['Injured'].astype(float)\n",
    "salary_cap_df['Long0term IR'] = salary_cap_df['Long0term IR'].astype(float)\n",
    "# Display the first few rows to verify\n",
    "print(salary_cap_df.head())"
   ]
  },
  {
   "cell_type": "code",
   "execution_count": 12,
   "metadata": {},
   "outputs": [
    {
     "data": {
      "text/plain": [
       "Season            object\n",
       "Team              object\n",
       "Total Players      int64\n",
       "Average Age      float64\n",
       "Cap Space          int64\n",
       "Total Cap          int64\n",
       "Long0term IR     float64\n",
       "Active             int64\n",
       "Injured          float64\n",
       "dtype: object"
      ]
     },
     "execution_count": 12,
     "metadata": {},
     "output_type": "execute_result"
    }
   ],
   "source": [
    "salary_cap_df.dtypes"
   ]
  },
  {
   "cell_type": "code",
   "execution_count": 13,
   "metadata": {
    "vscode": {
     "languageId": "javascript"
    }
   },
   "outputs": [],
   "source": [
    "stats['Season'] = stats['Season'].str.split('-').str[0]"
   ]
  },
  {
   "cell_type": "code",
   "execution_count": 14,
   "metadata": {},
   "outputs": [],
   "source": [
    "# Convert the 'Season' column to integers and drop rows with NaN values\n",
    "salary_cap_df = salary_cap_df.dropna(subset=['Season'])\n"
   ]
  },
  {
   "cell_type": "code",
   "execution_count": 15,
   "metadata": {},
   "outputs": [],
   "source": [
    "salary_cap_df['Season'] = salary_cap_df['Season'].astype(str).str.replace('.0', '', regex=False)"
   ]
  },
  {
   "cell_type": "code",
   "execution_count": 28,
   "metadata": {},
   "outputs": [],
   "source": [
    "# Mapping of abbreviated team names in salary_cap_df to full team names\n",
    "team_name_mapping = {\n",
    "    'ANA': 'Anaheim Ducks',\n",
    "    'CHI': 'Chicago Blackhawks',\n",
    "    'ARI': 'Arizona Coyotes',\n",
    "    'BUF': 'Buffalo Sabres',\n",
    "    'SJS': 'San Jose Sharks',\n",
    "    'CBJ': 'Columbus Blue Jackets',\n",
    "    'CGY': 'Calgary Flames',\n",
    "    'DET': 'Detroit Red Wings',\n",
    "    'WAS': 'Washington Capitals',\n",
    "    'SEA': 'Seattle Kraken',\n",
    "    'NJD': 'New Jersey Devils',\n",
    "    'NSH': 'Nashville Predators',\n",
    "    'STL': 'St. Louis Blues',\n",
    "    'MIN': 'Minnesota Wild',\n",
    "    'NYR': 'New York Rangers',\n",
    "    'MTL': 'Montréal Canadiens',\n",
    "    'VGK': 'Vegas Golden Knights',\n",
    "    'NYI': 'New York Islanders',\n",
    "    'VAN': 'Vancouver Canucks',\n",
    "    'TOR': 'Toronto Maple Leafs',\n",
    "    'COL': 'Colorado Avalanche',\n",
    "    'OTT': 'Ottawa Senators',\n",
    "    'PIT': 'Pittsburgh Penguins',\n",
    "    'TBL': 'Tampa Bay Lightning',\n",
    "    'BOS': 'Boston Bruins',\n",
    "    'LAK': 'Los Angeles Kings',\n",
    "    'DAL': 'Dallas Stars',\n",
    "    'EDM': 'Edmonton Oilers',\n",
    "    'CAR': 'Carolina Hurricanes',\n",
    "    'WPG': 'Winnipeg Jets',\n",
    "    'FLA': 'Florida Panthers',\n",
    "    'PHI': 'Philadelphia Flyers',\n",
    "    'PHX': 'Arizona Coyotes',  # Phoenix Coyotes is now Arizona Coyotes\n",
    "}\n",
    "salary_cap_df['Team'] = salary_cap_df['Team'].replace(team_name_mapping)"
   ]
  },
  {
   "cell_type": "code",
   "execution_count": 29,
   "metadata": {},
   "outputs": [],
   "source": [
    "# Strip from the Team column in salary_cap_df\n",
    "salary_cap_df['Team'] = salary_cap_df['Team'].str.strip()\n",
    "\n",
    "# Map the abbreviated team names in salary_cap_df to the full team names in stats\n",
    "salary_cap_df['Team'] = salary_cap_df['Team'].replace(team_name_mapping)"
   ]
  },
  {
   "cell_type": "code",
   "execution_count": 31,
   "metadata": {},
   "outputs": [
    {
     "data": {
      "text/plain": [
       "Team                 object\n",
       "Season               object\n",
       "Games Played        float64\n",
       "Wins                float64\n",
       "Losses              float64\n",
       "Overtime Losses     float64\n",
       "Points              float64\n",
       "Point Percentage    float64\n",
       "Goals For           float64\n",
       "Goals Against       float64\n",
       "dtype: object"
      ]
     },
     "execution_count": 31,
     "metadata": {},
     "output_type": "execute_result"
    }
   ],
   "source": [
    "stats.dtypes"
   ]
  },
  {
   "cell_type": "code",
   "execution_count": null,
   "metadata": {},
   "outputs": [
    {
     "name": "stdout",
     "output_type": "stream",
     "text": [
      "                  Team Season  Games Played  Wins  Losses  Overtime Losses  \\\n",
      "0    New Jersey Devils   2011          82.0  48.0    28.0              6.0   \n",
      "1   New York Islanders   2011          82.0  34.0    37.0             11.0   \n",
      "2     New York Rangers   2011          82.0  51.0    24.0              7.0   \n",
      "3  Philadelphia Flyers   2011          82.0  47.0    26.0              9.0   \n",
      "4  Pittsburgh Penguins   2011          82.0  51.0    25.0              6.0   \n",
      "\n",
      "   Points  Point Percentage  Goals For  Goals Against  Total Players  \\\n",
      "0   102.0             0.622      216.0          205.0             43   \n",
      "1    79.0             0.482      196.0          251.0             40   \n",
      "2   109.0             0.665      222.0          182.0             46   \n",
      "3   103.0             0.628      260.0          225.0             38   \n",
      "4   108.0             0.659      273.0          218.0             41   \n",
      "\n",
      "   Average Age  Cap Space  Total Cap  Long0term IR    Active  Injured  \n",
      "0         27.4    1768336   66068336           0.0  63401668      0.0  \n",
      "1         25.8   17431418   46868582           0.0  43831249      0.0  \n",
      "2         25.9   19262000   83562000           0.0  79845333      0.0  \n",
      "3         26.0   14483929   78783929           0.0  78783929      0.0  \n",
      "4         27.1    5548167   69848167           0.0  69698167      0.0  \n"
     ]
    }
   ],
   "source": [
    "merged_df = pd.merge(stats, salary_cap_df, on=['Team', 'Season'], how='inner')\n",
    "\n",
    "print(merged_df.head())"
   ]
  },
  {
   "cell_type": "code",
   "execution_count": 35,
   "metadata": {},
   "outputs": [],
   "source": [
    "merged_df.to_csv('merged_data.csv', index=False)"
   ]
  },
  {
   "cell_type": "code",
   "execution_count": 44,
   "metadata": {},
   "outputs": [
    {
     "name": "stdout",
     "output_type": "stream",
     "text": [
      "R-squared value: 0.12421570230884593\n",
      "Intercept: 37.17695023503407\n",
      "Coefficient: 7.507139407777383e-07\n"
     ]
    }
   ],
   "source": [
    "import pandas as pd\n",
    "from sklearn.linear_model import LinearRegression\n",
    "from sklearn.model_selection import train_test_split\n",
    "from sklearn.metrics import r2_score\n",
    "\n",
    "\n",
    "X = merged_df[['Active']].values  # Active cap spending\n",
    "y = merged_df['Points'].values  # Points\n",
    "\n",
    "# Split the data into training and testing sets\n",
    "X_train, X_test, y_train, y_test = train_test_split(X, y, test_size=0.2, random_state=42)\n",
    "\n",
    "# Create and train the regression model\n",
    "model = LinearRegression()\n",
    "model.fit(X_train, y_train)\n",
    "\n",
    "# Make predictions\n",
    "y_pred = model.predict(X_test)\n",
    "\n",
    "# Evaluate the model\n",
    "r2 = r2_score(y_test, y_pred)\n",
    "print(f\"R-squared value: {r2}\")\n",
    "\n",
    "# Display the regression coefficients\n",
    "print(f\"Intercept: {model.intercept_}\")\n",
    "print(f\"Coefficient: {model.coef_[0]}\")"
   ]
  },
  {
   "cell_type": "code",
   "execution_count": 43,
   "metadata": {},
   "outputs": [
    {
     "name": "stderr",
     "output_type": "stream",
     "text": [
      "/Users/johnreisfield/Desktop/Anaconda/anaconda3/lib/python3.11/site-packages/seaborn/_oldcore.py:1119: FutureWarning: use_inf_as_na option is deprecated and will be removed in a future version. Convert inf values to NaN before operating instead.\n",
      "  with pd.option_context('mode.use_inf_as_na', True):\n"
     ]
    },
    {
     "data": {
      "image/png": "[encoded data removed]",
      "text/plain": [
       "<Figure size 1000x600 with 1 Axes>"
      ]
     },
     "metadata": {},
     "output_type": "display_data"
    }
   ],
   "source": [
    "import matplotlib.ticker as mtick\n",
    "\n",
    "# Univariate Analysis: Distribution of Cap Spending\n",
    "plt.figure(figsize=(10, 6))\n",
    "sns.histplot(merged_df['Active'] / 1e6, kde=True, bins=30, color='blue')  # Scale data to millions directly\n",
    "plt.title('Distribution of Active Cap Spending', fontsize=16)\n",
    "plt.xlabel('Active Cap Spending (in $1M)', fontsize=12)\n",
    "plt.ylabel('Frequency', fontsize=12)\n",
    "\n",
    "# Format the x-axis to show values like 40M, 50M, etc.\n",
    "plt.gca().xaxis.set_major_formatter(mtick.FuncFormatter(lambda x, _: f'{x:.0f}M'))\n",
    "\n",
    "plt.show()"
   ]
  },
  {
   "cell_type": "code",
   "execution_count": 39,
   "metadata": {},
   "outputs": [
    {
     "data": {
      "image/png": "[encoded data removed]",
      "text/plain": [
       "<Figure size 1000x600 with 1 Axes>"
      ]
     },
     "metadata": {},
     "output_type": "display_data"
    },
    {
     "name": "stdout",
     "output_type": "stream",
     "text": [
      "Pearson Correlation Coefficient: 0.40780077860774117\n",
      "P-value: 2.4371420858141744e-17\n",
      "T-statistic: 7.991201278809738\n",
      "P-value: 1.48350756030923e-14\n"
     ]
    }
   ],
   "source": [
    "# Bivariate Analysis: Scatterplot of Cap Spending vs Points\n",
    "plt.figure(figsize=(10, 6))\n",
    "sns.scatterplot(x=merged_df['Active'], y=merged_df['Points'], alpha=0.7)\n",
    "plt.title('Cap Spending vs Points', fontsize=16)\n",
    "plt.xlabel('Active Cap Spending', fontsize=12)\n",
    "plt.ylabel('Points', fontsize=12)\n",
    "plt.show()\n",
    "\n",
    "# Hypothesis Test: Correlation between Cap Spending and Points\n",
    "correlation, p_value = pearsonr(merged_df['Active'], merged_df['Points'])\n",
    "print(f\"Pearson Correlation Coefficient: {correlation}\")\n",
    "print(f\"P-value: {p_value}\")\n",
    "\n",
    "# Comparing Points for Teams Above and Below Median Cap Spending Hypthesis Test 2\n",
    "median_cap = merged_df['Active'].median()\n",
    "above_median = merged_df[merged_df['Active'] > median_cap]['Points']\n",
    "below_median = merged_df[merged_df['Active'] <= median_cap]['Points']\n",
    "\n",
    "t_stat, t_p_value = ttest_ind(above_median, below_median)\n",
    "print(f\"T-statistic: {t_stat}\")\n",
    "print(f\"P-value: {t_p_value}\")"
   ]
  },
  {
   "cell_type": "code",
   "execution_count": 40,
   "metadata": {},
   "outputs": [
    {
     "name": "stdout",
     "output_type": "stream",
     "text": [
      "R-squared value (multi-feature): 0.196068265219157\n",
      "Intercept: 95.23088244381266\n",
      "Coefficients: {'Active': 1.0174181474685266e-06, 'Cap Space': -1.2274999220827581e-06, 'Total Cap': -9.55725475369074e-07, 'Long0term IR': 1.4115608490194558e-06, 'Injured': 3.730440746293088e-07, 'Average Age': -0.0696944557862625}\n"
     ]
    }
   ],
   "source": [
    "# Select features for the regression model\n",
    "features = ['Active', 'Cap Space', 'Total Cap', 'Long0term IR', 'Injured', 'Average Age']\n",
    "X_multi = merged_df[features].values  # Independent variables\n",
    "y_multi = merged_df['Points'].values  # Dependent variable\n",
    "\n",
    "# Split the data into training and testing sets\n",
    "X_train_multi, X_test_multi, y_train_multi, y_test_multi = train_test_split(X_multi, y_multi, test_size=0.2, random_state=42)\n",
    "\n",
    "# Create and train the regression model\n",
    "multi_model = LinearRegression()\n",
    "multi_model.fit(X_train_multi, y_train_multi)\n",
    "\n",
    "# Make predictions\n",
    "y_pred_multi = multi_model.predict(X_test_multi)\n",
    "\n",
    "# Evaluate the model\n",
    "r2_multi = r2_score(y_test_multi, y_pred_multi)\n",
    "print(f\"R-squared value (multi-feature): {r2_multi}\")\n",
    "\n",
    "# Display the regression coefficients\n",
    "print(f\"Intercept: {multi_model.intercept_}\")\n",
    "print(f\"Coefficients: {dict(zip(features, multi_model.coef_))}\")"
   ]
  },
  {
   "cell_type": "code",
   "execution_count": null,
   "metadata": {},
   "outputs": [],
   "source": []
  },
  {
   "cell_type": "code",
   "execution_count": null,
   "metadata": {},
   "outputs": [],
   "source": []
  }
 ],
 "metadata": {
  "kernelspec": {
   "display_name": "base",
   "language": "python",
   "name": "python3"
  },
  "language_info": {
   "codemirror_mode": {
    "name": "ipython",
    "version": 3
   },
   "file_extension": ".py",
   "mimetype": "text/x-python",
   "name": "python",
   "nbconvert_exporter": "python",
   "pygments_lexer": "ipython3",
   "version": "3.11.7"
  }
 },
 "nbformat": 4,
 "nbformat_minor": 2
}
