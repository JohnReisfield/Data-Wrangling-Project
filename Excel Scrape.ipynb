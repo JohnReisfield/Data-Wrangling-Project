{
 "cells": [
  {
   "cell_type": "code",
   "execution_count": 1,
   "metadata": {},
   "outputs": [
    {
     "name": "stderr",
     "output_type": "stream",
     "text": [
      "/Users/johnreisfield/Library/Python/3.9/lib/python/site-packages/urllib3/__init__.py:35: NotOpenSSLWarning: urllib3 v2 only supports OpenSSL 1.1.1+, currently the 'ssl' module is compiled with 'LibreSSL 2.8.3'. See: https://github.com/urllib3/urllib3/issues/3020\n",
      "  warnings.warn(\n"
     ]
    }
   ],
   "source": [
    "import seaborn as sns\n",
    "from scipy.stats import pearsonr, ttest_ind\n",
    "import pandas as pd\n",
    "from selenium import webdriver  \n",
    "from selenium.webdriver.chrome.service import Service  \n",
    "from selenium.webdriver.common.by import By  \n",
    "from selenium.webdriver.chrome.options import Options  \n",
    "from webdriver_manager.chrome import ChromeDriverManager  \n",
    "from selenium.webdriver.support.ui import WebDriverWait\n",
    "from selenium.webdriver.support import expected_conditions as EC\n",
    "from selenium.common.exceptions import NoSuchElementException\n",
    "from selenium.common.exceptions import TimeoutException\n",
    "import time  \n",
    "import random  \n",
    "import matplotlib.pyplot as plt\n",
    "from selenium.common.exceptions import ElementClickInterceptedException\n",
    "import matplotlib.ticker as mtick\n",
    "from sklearn.linear_model import LinearRegression\n",
    "from sklearn.model_selection import train_test_split\n",
    "from sklearn.metrics import r2_score\n",
    "from scipy.stats import f_oneway\n",
    "from sklearn.linear_model import Ridge, Lasso\n",
    "from sklearn.ensemble import RandomForestRegressor\n",
    "from sklearn.metrics import mean_squared_error"
   ]
  },
  {
   "cell_type": "code",
   "execution_count": 4,
   "metadata": {},
   "outputs": [
    {
     "name": "stdout",
     "output_type": "stream",
     "text": [
      "  Season  Team  Total Players  Average Age  Cap Space  Total Cap  \\\n",
      "0   2023   ANA             55         25.3   13168855   70331145   \n",
      "1   2023   CHI             54         27.3   12857222   70642778   \n",
      "2   2023   ARI             54         25.9   12180382   71319618   \n",
      "3   2023   BUF             51         25.0   10676071   72823929   \n",
      "4   2023   SJS             62         27.1    9725679   73749321   \n",
      "\n",
      "   Long0term IR    Active     Injured  \n",
      "0           0.0  62409004   2750000.0  \n",
      "1           0.0  51951617   6000000.0  \n",
      "2           0.0  42536666  23148206.0  \n",
      "3           0.0  66673872   4285714.0  \n",
      "4           0.0  48219231  13425000.0  \n"
     ]
    }
   ],
   "source": [
    "# Load the salary cap data from the CSV file\n",
    "salary_cap_df = pd.read_excel(r\"NHL Salary Cap.xlsx\")\n",
    "salary_cap_df['Season'] = salary_cap_df['Season'].astype(str)\n",
    "salary_cap_df['Injured'] = salary_cap_df['Injured'].astype(float)\n",
    "salary_cap_df['Long0term IR'] = salary_cap_df['Long0term IR'].astype(float)\n",
    "# Display the first few rows to verify\n",
    "print(salary_cap_df.head())\n",
    "\n",
    "# Convert the 'Season' column to integers and drop rows with NaN values\n",
    "salary_cap_df = salary_cap_df.dropna(subset=['Season'])\n",
    "salary_cap_df['Season'] = salary_cap_df['Season'].astype(str).str.replace('.0', '', regex=False)\n",
    "\n",
    "# Mapping of abbreviated team names in salary_cap_df to full team names\n",
    "team_name_mapping = {\n",
    "    'ANA': 'Anaheim Ducks',\n",
    "    'CHI': 'Chicago Blackhawks',\n",
    "    'ARI': 'Arizona Coyotes',\n",
    "    'BUF': 'Buffalo Sabres',\n",
    "    'SJS': 'San Jose Sharks',\n",
    "    'CBJ': 'Columbus Blue Jackets',\n",
    "    'CGY': 'Calgary Flames',\n",
    "    'DET': 'Detroit Red Wings',\n",
    "    'WAS': 'Washington Capitals',\n",
    "    'SEA': 'Seattle Kraken',\n",
    "    'NJD': 'New Jersey Devils',\n",
    "    'NSH': 'Nashville Predators',\n",
    "    'STL': 'St. Louis Blues',\n",
    "    'MIN': 'Minnesota Wild',\n",
    "    'NYR': 'New York Rangers',\n",
    "    'MTL': 'Montréal Canadiens',\n",
    "    'VGK': 'Vegas Golden Knights',\n",
    "    'NYI': 'New York Islanders',\n",
    "    'VAN': 'Vancouver Canucks',\n",
    "    'TOR': 'Toronto Maple Leafs',\n",
    "    'COL': 'Colorado Avalanche',\n",
    "    'OTT': 'Ottawa Senators',\n",
    "    'PIT': 'Pittsburgh Penguins',\n",
    "    'TBL': 'Tampa Bay Lightning',\n",
    "    'BOS': 'Boston Bruins',\n",
    "    'LAK': 'Los Angeles Kings',\n",
    "    'DAL': 'Dallas Stars',\n",
    "    'EDM': 'Edmonton Oilers',\n",
    "    'CAR': 'Carolina Hurricanes',\n",
    "    'WPG': 'Winnipeg Jets',\n",
    "    'FLA': 'Florida Panthers',\n",
    "    'PHI': 'Philadelphia Flyers',\n",
    "    'PHX': 'Arizona Coyotes',  # Phoenix Coyotes is now Arizona Coyotes\n",
    "}\n",
    "salary_cap_df['Team'] = salary_cap_df['Team'].replace(team_name_mapping)\n",
    "\n",
    "# Strip from the Team column in salary_cap_df\n",
    "salary_cap_df['Team'] = salary_cap_df['Team'].str.strip()\n",
    "\n",
    "# Map the abbreviated team names in salary_cap_df to the full team names in stats\n",
    "salary_cap_df['Team'] = salary_cap_df['Team'].replace(team_name_mapping)\n",
    "\n"
   ]
  },
  {
   "cell_type": "code",
   "execution_count": null,
   "metadata": {},
   "outputs": [],
   "source": []
  }
 ],
 "metadata": {
  "kernelspec": {
   "display_name": "Python 3",
   "language": "python",
   "name": "python3"
  },
  "language_info": {
   "codemirror_mode": {
    "name": "ipython",
    "version": 3
   },
   "file_extension": ".py",
   "mimetype": "text/x-python",
   "name": "python",
   "nbconvert_exporter": "python",
   "pygments_lexer": "ipython3",
   "version": "3.9.6"
  }
 },
 "nbformat": 4,
 "nbformat_minor": 2
}
